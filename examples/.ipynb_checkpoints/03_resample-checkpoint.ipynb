{
 "cells": [
  {
   "cell_type": "markdown",
   "metadata": {},
   "source": [
    "# 时间数据重采样"
   ]
  },
  {
   "cell_type": "markdown",
   "metadata": {},
   "source": [
    "## resample"
   ]
  },
  {
   "cell_type": "code",
   "execution_count": 2,
   "metadata": {
    "collapsed": false
   },
   "outputs": [
    {
     "name": "stdout",
     "output_type": "stream",
     "text": [
      "2017-01-01    0\n",
      "2017-01-02    1\n",
      "2017-01-03    2\n",
      "2017-01-04    3\n",
      "2017-01-05    4\n",
      "2017-01-06    5\n",
      "2017-01-07    6\n",
      "2017-01-08    7\n",
      "2017-01-09    8\n",
      "2017-01-10    9\n",
      "Freq: D, dtype: int32\n"
     ]
    }
   ],
   "source": [
    "import pandas as pd\n",
    "import numpy as np\n",
    "\n",
    "date_rng = pd.date_range('20170101', periods=100, freq='D')\n",
    "ser_obj = pd.Series(range(len(date_rng)), index=date_rng)\n",
    "print(ser_obj.head(10))"
   ]
  },
  {
   "cell_type": "code",
   "execution_count": 11,
   "metadata": {
    "collapsed": false
   },
   "outputs": [
    {
     "name": "stdout",
     "output_type": "stream",
     "text": [
      "按月求和： 2017-01-31     465\n",
      "2017-02-28    1246\n",
      "2017-03-31    2294\n",
      "2017-04-30     945\n",
      "Freq: M, dtype: int32\n",
      "按月求均值： 2017-01-31    15.0\n",
      "2017-02-28    44.5\n",
      "2017-03-31    74.0\n",
      "2017-04-30    94.5\n",
      "Freq: M, dtype: float64\n"
     ]
    }
   ],
   "source": [
    "# 统计每个月的数据总和\n",
    "resample_month_sum = ser_obj.resample('M').sum()\n",
    "# 统计每个月的数据平均\n",
    "resample_month_mean = ser_obj.resample('M').mean()\n",
    "\n",
    "print('按月求和：', resample_month_sum)\n",
    "print('按月求均值：', resample_month_mean)"
   ]
  },
  {
   "cell_type": "markdown",
   "metadata": {},
   "source": [
    "## 降采样"
   ]
  },
  {
   "cell_type": "code",
   "execution_count": 4,
   "metadata": {
    "collapsed": false
   },
   "outputs": [
    {
     "name": "stdout",
     "output_type": "stream",
     "text": [
      "2017-01-01     10\n",
      "2017-01-06     35\n",
      "2017-01-11     60\n",
      "2017-01-16     85\n",
      "2017-01-21    110\n",
      "2017-01-26    135\n",
      "2017-01-31    160\n",
      "2017-02-05    185\n",
      "2017-02-10    210\n",
      "2017-02-15    235\n",
      "2017-02-20    260\n",
      "2017-02-25    285\n",
      "2017-03-02    310\n",
      "2017-03-07    335\n",
      "2017-03-12    360\n",
      "2017-03-17    385\n",
      "2017-03-22    410\n",
      "2017-03-27    435\n",
      "2017-04-01    460\n",
      "2017-04-06    485\n",
      "Freq: 5D, dtype: int32\n",
      "2017-01-01     2\n",
      "2017-01-06     7\n",
      "2017-01-11    12\n",
      "2017-01-16    17\n",
      "2017-01-21    22\n",
      "2017-01-26    27\n",
      "2017-01-31    32\n",
      "2017-02-05    37\n",
      "2017-02-10    42\n",
      "2017-02-15    47\n",
      "2017-02-20    52\n",
      "2017-02-25    57\n",
      "2017-03-02    62\n",
      "2017-03-07    67\n",
      "2017-03-12    72\n",
      "2017-03-17    77\n",
      "2017-03-22    82\n",
      "2017-03-27    87\n",
      "2017-04-01    92\n",
      "2017-04-06    97\n",
      "Freq: 5D, dtype: int32\n"
     ]
    }
   ],
   "source": [
    "# 将数据聚合到5天的频率\n",
    "five_day_sum_sample = ser_obj.resample('5D').sum()\n",
    "five_day_mean_sample = ser_obj.resample('5D').mean()\n",
    "print(five_day_sum_sample)\n",
    "print(five_day_mean_sample)"
   ]
  },
  {
   "cell_type": "code",
   "execution_count": null,
   "metadata": {
    "collapsed": true
   },
   "outputs": [],
   "source": []
  }
 ],
 "metadata": {
  "kernelspec": {
   "display_name": "Python [conda env:py35]",
   "language": "python",
   "name": "conda-env-py35-py"
  },
  "language_info": {
   "codemirror_mode": {
    "name": "ipython",
    "version": 3
   },
   "file_extension": ".py",
   "mimetype": "text/x-python",
   "name": "python",
   "nbconvert_exporter": "python",
   "pygments_lexer": "ipython3",
   "version": "3.5.2"
  }
 },
 "nbformat": 4,
 "nbformat_minor": 0
}
